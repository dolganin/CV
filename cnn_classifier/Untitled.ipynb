{
 "cells": [
  {
   "cell_type": "code",
   "execution_count": 1,
   "id": "22e567a8",
   "metadata": {},
   "outputs": [],
   "source": [
    "import torch\n",
    "import torch.nn as nn\n",
    "import model\n",
    "from collections import OrderedDict"
   ]
  },
  {
   "cell_type": "code",
   "execution_count": 3,
   "id": "ea6a07d2",
   "metadata": {},
   "outputs": [],
   "source": [
    "\n",
    "\n",
    "def average_models(model1_state_dict, model2_state_dict):\n",
    "    # Создаем новый пустой словарь для усредненных весов\n",
    "    averaged_state_dict = OrderedDict()\n",
    "\n",
    "    # Проходим по каждому ключу в первом словаре (веса первой нейросети)\n",
    "    for key in model1_state_dict.keys():\n",
    "        # Получаем веса для текущего ключа из обеих моделей\n",
    "        weights1 = model1_state_dict[key]\n",
    "        weights2 = model2_state_dict[key]\n",
    "\n",
    "        # Усредняем веса и добавляем их в новый словарь\n",
    "        averaged_weights = (weights1 + weights2) / 2\n",
    "        averaged_state_dict[key] = averaged_weights\n",
    "\n",
    "    return averaged_state_dict\n",
    "# Пример использования\n",
    "\n",
    "model1 = torch.load(\"model/best.pt\", map_location=\"cpu\")\n",
    "model2 = torch.load(\"model/transfer.pt\", map_location=\"cpu\")\n",
    "\n",
    "averaged_model = average_models(model1, model2)"
   ]
  },
  {
   "cell_type": "code",
   "execution_count": 5,
   "id": "acc2a9f4",
   "metadata": {},
   "outputs": [],
   "source": [
    "torch.save(averaged_model, 'model/test.pt')"
   ]
  },
  {
   "cell_type": "code",
   "execution_count": null,
   "id": "7d3cee18",
   "metadata": {},
   "outputs": [],
   "source": []
  }
 ],
 "metadata": {
  "kernelspec": {
   "display_name": "nomerov-onnx",
   "language": "python",
   "name": "nomerov-onnx"
  },
  "language_info": {
   "codemirror_mode": {
    "name": "ipython",
    "version": 3
   },
   "file_extension": ".py",
   "mimetype": "text/x-python",
   "name": "python",
   "nbconvert_exporter": "python",
   "pygments_lexer": "ipython3",
   "version": "3.8.18"
  }
 },
 "nbformat": 4,
 "nbformat_minor": 5
}
