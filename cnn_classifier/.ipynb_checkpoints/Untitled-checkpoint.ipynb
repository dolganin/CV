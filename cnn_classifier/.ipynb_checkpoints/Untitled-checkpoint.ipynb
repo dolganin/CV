{
 "cells": [
  {
   "cell_type": "code",
   "execution_count": 5,
   "id": "8d46180c",
   "metadata": {},
   "outputs": [],
   "source": [
    "import torch\n",
    "import torch.nn as nn\n",
    "import model\n"
   ]
  },
  {
   "cell_type": "code",
   "execution_count": null,
   "id": "d9fd2ed0",
   "metadata": {},
   "outputs": [],
   "source": [
    "def average_weights(model1, model2):\n",
    "\n",
    "    averaged_weights = {}\n",
    "    for layer in model1.modules():\n",
    "    if hasattr(layer, \"weight\"):\n",
    "        name = layer.weight.name\n",
    "        averaged_weights[name] = (layer.weight + model2.state_dict()[name]) / 2\n",
    "    return averaged_weights\n",
    "\n",
    "# Пример использования\n",
    "\n",
    "model1 = torch.load(\"model/best.pt\")\n",
    "model2 = torch.load(\"model/transfer.pt\")\n",
    "\n",
    "averaged_weights = average_weights(model1, model2)\n",
    "\n",
    "# Сохранение усредненных весов\n",
    "new_model = torch.nn.Sequential()\n",
    "for name, weight in averaged_weights.items():\n",
    "    new_model.add_module(name, torch.nn.Linear(weight.shape[1], bias=False, weight=weight))\n",
    "torch.save(new_model, \"model/averaged_model.pt\")\n"
   ]
  }
 ],
 "metadata": {
  "kernelspec": {
   "display_name": "nomerov-onnx",
   "language": "python",
   "name": "nomerov-onnx"
  },
  "language_info": {
   "codemirror_mode": {
    "name": "ipython",
    "version": 3
   },
   "file_extension": ".py",
   "mimetype": "text/x-python",
   "name": "python",
   "nbconvert_exporter": "python",
   "pygments_lexer": "ipython3",
   "version": "3.8.18"
  }
 },
 "nbformat": 4,
 "nbformat_minor": 5
}
