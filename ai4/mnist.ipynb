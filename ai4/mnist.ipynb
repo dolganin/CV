{
 "cells": [
  {
   "cell_type": "code",
   "execution_count": 123,
   "id": "eed3a361",
   "metadata": {},
   "outputs": [],
   "source": [
    "import numpy as np\n",
    "import pandas as pd"
   ]
  },
  {
   "cell_type": "code",
   "execution_count": 124,
   "id": "b6f599dd",
   "metadata": {},
   "outputs": [],
   "source": [
    "lr = 2\n",
    "epoch = 300\n",
    "classnum = 10\n",
    "img_h = 28\n",
    "img_w = 28\n",
    "batch_size = 128"
   ]
  },
  {
   "cell_type": "code",
   "execution_count": 125,
   "id": "a94776f4",
   "metadata": {},
   "outputs": [],
   "source": [
    "def get_image_sector(image, str_from, str_to, col_from, col_to):\n",
    "    sector = image[:, str_from:str_to, col_from:col_to]\n",
    "    return sector.reshape(-1, 1, str_to-str_from, col_to-col_from)"
   ]
  },
  {
   "cell_type": "code",
   "execution_count": 126,
   "id": "45a0f9a7",
   "metadata": {},
   "outputs": [],
   "source": [
    "def conv2d(image, kernel):\n",
    "    for i in range(int(len(image)/batch_size)):\n",
    "        batch_start, batch_end = ((i*batch_size), (i+1)*batch_size)\n",
    "        layer = image[batch_start:batch_end]\n",
    "        layer = layer.reshape(layer.shape[0], img_h, img_w)\n",
    "        sects = []\n",
    "        for str_from in range(layer.shape[1]-kernel.shape[1]):\n",
    "            for col_from in range(layer.shape[2]-kernel.shape[2]):\n",
    "                sect = get_image_sector(layer, str_from, str_from+kernel.shape[1], col_from, col_from+kernel.shape[2])\n",
    "                sects.append(sect)\n",
    "        expanded_input = np.concatenate(sects, axis=1)\n",
    "    return expanded_input.reshape(np.prod(expanded_input.shape), -1).dot(kernel)"
   ]
  },
  {
   "cell_type": "code",
   "execution_count": 127,
   "id": "8df60cdc",
   "metadata": {},
   "outputs": [],
   "source": [
    "def pool(image, kernel):\n",
    "    for i in range(int(len(image)/batch_size)):\n",
    "        batch_start, batch_end = ((i*batch_size), (i+1)*batch_size)\n",
    "        layer = image[batch_start:batch_end]\n",
    "        layer = layer.reshape(layer.shape[0], img_h, img_w)\n",
    "        sects = []\n",
    "        for str_from in range(layer.shape[1]-kernel[0]):\n",
    "            for col_from in range(layer.shape[2]-kernel[1]):\n",
    "                sect = get_image_sector(layer, str_from, str_from+kernel[0], col_from, col_from+kernel[1])\n",
    "                sects.append(sect)\n",
    "    return sects"
   ]
  },
  {
   "cell_type": "code",
   "execution_count": 128,
   "id": "4d6b4aff",
   "metadata": {},
   "outputs": [],
   "source": [
    "def sigm2deriv(x):\n",
    "    return sigmoid(x)*(1-sigmoid(x))"
   ]
  },
  {
   "cell_type": "code",
   "execution_count": 133,
   "id": "e2198f27",
   "metadata": {},
   "outputs": [],
   "source": [
    "def sigmoid(x):\n",
    "    return 1+(1+e**(-x))"
   ]
  },
  {
   "cell_type": "code",
   "execution_count": 134,
   "id": "d4621db5",
   "metadata": {},
   "outputs": [],
   "source": [
    "def softmax(x):\n",
    "    temp = np.exp(x)\n",
    "    return temp/np.sum(temp, axis=1, keepdims=True)"
   ]
  },
  {
   "cell_type": "code",
   "execution_count": 135,
   "id": "55be85b6",
   "metadata": {},
   "outputs": [],
   "source": [
    "def Flatten(x):\n",
    "    return x.reshape(x[0]*x[1],-1)"
   ]
  },
  {
   "cell_type": "code",
   "execution_count": 137,
   "id": "0e135e04",
   "metadata": {},
   "outputs": [],
   "source": [
    "class Layer:\n",
    "    weigths = 0\n",
    "    def __init__(self, with_w=False, derivative=0, function = 0):\n",
    "        self.act = function\n",
    "        self.deriv = derivative\n",
    "        self.flag = with_w\n",
    "   \n",
    "    def init_weigths(self ,size, shape):\n",
    "        self.weigths = np.random.uniform(-1,1, size)\n",
    "        self.weigths = self.weigths.reshape(shape)\n",
    "        \n",
    "    def dropout(layer):\n",
    "        mask = np.random.randint(2, size=layer.shape)\n",
    "        return layer*mask*2\n",
    "\n",
    "    def forward(self, input):\n",
    "        pass\n",
    "    \n",
    "    def backward():"
   ]
  },
  {
   "cell_type": "code",
   "execution_count": 138,
   "id": "223340a6",
   "metadata": {},
   "outputs": [],
   "source": [
    "class Linear(Layer):\n",
    "    inp = 0\n",
    "    out = 0\n",
    "    def __init__(self, in_features, out_features, bias = False):\n",
    "        super(Linear, self).__init__()\n",
    "        self.inp = in_features\n",
    "        self.out = out_features\n",
    "        self.init_weigths(self.inp**2*self.out**2, [[self.inp, self.inp], [self.out, self.out]])\n",
    "        self.forward = matmul\n",
    "    \n",
    "    def matmul(self, input):\n",
    "        assert([input.shape[2], input.shape[3]]==self.weigths.shape[1])\n",
    "        input = input.reshape([input.shape[0], input.shape[1]],[input.shape[2], input.shape[3]])\n",
    "        return np.matmul(input, self.weigths)\n",
    "      "
   ]
  },
  {
   "cell_type": "code",
   "execution_count": 139,
   "id": "3cd02ec9",
   "metadata": {},
   "outputs": [],
   "source": [
    "class Conv2d(Layer):\n",
    "    in_channels = 0\n",
    "    out_channels = 0\n",
    "    kernel_size = 0\n",
    "    padding = 0\n",
    "    def __init__(self, in_chan, out_chan, kernel_size, padding=False):\n",
    "        self.in_channels = in_chan\n",
    "        self.out_channels = out_chan\n",
    "        self.kernel_size = kernel_size\n",
    "        self.padding = padding\n",
    "        self.init_weigths(np.prod(kernel_size), kernel_size)\n",
    "        self.forward = conv\n",
    "    \n",
    "    def conv(self, input):\n",
    "        return conv2d(input, self.weigths)"
   ]
  },
  {
   "cell_type": "code",
   "execution_count": 140,
   "id": "35ab6834",
   "metadata": {},
   "outputs": [],
   "source": [
    "class Pool2d(Layer):\n",
    "    kernel_size = 0\n",
    "    mode = 0\n",
    "    def __init__(self, kernel_size, mode=\"Avg\"):\n",
    "        self.kernel_size = kernel_size\n",
    "        self.mode = mode\n",
    "    \n",
    "    def forward(self, input):\n",
    "        if self.mode ==\"Max\":\n",
    "            sects = pool(input, self.kernel_size)\n",
    "            out = np.zeros(len(sects))\n",
    "            for i in range(len(sects)):\n",
    "                out[i] = sects[i].argmax(1)\n",
    "            return out\n",
    "        elif self.mode ==\"Avg\":\n",
    "            sects = pool(input, self.kernel_size)\n",
    "            out = np.zeros(len(sects))\n",
    "            for i in range(len(sects)):\n",
    "                out[i] = np.sum(sects[i])/np.prod(self.kernel_size)\n",
    "            return out"
   ]
  },
  {
   "cell_type": "code",
   "execution_count": 136,
   "id": "67dc191a",
   "metadata": {},
   "outputs": [],
   "source": [
    "def CrossEntropyLoss(predict, labels):\n",
    "    assert(predict.shape[0]==len(labels))\n",
    "    predict = predict.argmax(1)\n",
    "    loss = 0\n",
    "    for i in range(len(labels)):\n",
    "        loss += labels[i]*np.log2(predict[i])\n",
    "    loss *= -1\n",
    "    return loss"
   ]
  },
  {
   "cell_type": "code",
   "execution_count": 141,
   "id": "efa42b37",
   "metadata": {},
   "outputs": [],
   "source": [
    "data = pd.read_csv(\"mnist_train.csv\")\n",
    "train_label, train_data = data[\"label\"], data.drop([\"label\"], axis=1)\n",
    "train_data = train_data.to_numpy()\n",
    "train_label = train_label.to_numpy()"
   ]
  },
  {
   "cell_type": "code",
   "execution_count": null,
   "id": "fc231f2b",
   "metadata": {},
   "outputs": [],
   "source": []
  }
 ],
 "metadata": {
  "kernelspec": {
   "display_name": "Python 3 (ipykernel)",
   "language": "python",
   "name": "python3"
  },
  "language_info": {
   "codemirror_mode": {
    "name": "ipython",
    "version": 3
   },
   "file_extension": ".py",
   "mimetype": "text/x-python",
   "name": "python",
   "nbconvert_exporter": "python",
   "pygments_lexer": "ipython3",
   "version": "3.8.10"
  }
 },
 "nbformat": 4,
 "nbformat_minor": 5
}
